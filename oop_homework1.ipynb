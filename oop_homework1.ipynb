{
 "cells": [
  {
   "cell_type": "markdown",
   "metadata": {},
   "source": [
    "### Домашнее задание «ООП: наследование, инкапсуляция и полиморфизм»"
   ]
  },
  {
   "cell_type": "code",
   "execution_count": 186,
   "metadata": {},
   "outputs": [],
   "source": [
    "class Student:\n",
    "    def __init__(self, name, surname, gender):\n",
    "        self.name = name\n",
    "        self.surname = surname\n",
    "        self.gender = gender\n",
    "        self.finished_courses = []\n",
    "        self.courses_in_progress = []\n",
    "        self.grades = {}\n",
    "\n",
    "    def rate_lecture(self, lecture, course, grade):\n",
    "        '''evaluate the lecturer'''\n",
    "\n",
    "        if isinstance(lecture, Lecturer):\n",
    "            if course in  self.courses_in_progress and course in lecture.courses_attached:\n",
    "                lecture.grades.setdefault(course, [])\n",
    "                lecture.grades[course].append(grade)\n",
    "        return 'Ошибка'\n",
    "    \n",
    "    def avg_grade(self):\n",
    "        '''calculates the average grade for homework'''\n",
    "\n",
    "        grades_list = sum(self.grades.values(), start=[])\n",
    "        return round(sum(grades_list) / len(grades_list), 2)\n",
    "\n",
    "    def __str__(self):\n",
    "        if self.grades:\n",
    "            return (f\"Имя: {self.name} \\nФамилия: {self.surname} \\nСредняя оценка за домашние задания: {self.avg_grade()} \"\n",
    "               f\"\\nКурсы в процессе изучения: {', '.join(self.courses_in_progress)}\"\n",
    "               f\"\\nЗавершенные курсы: {', '.join(self.finished_courses)}\"\n",
    "            )\n",
    "        return (f\"Имя: {self.name} \\nФамилия: {self.surname} \\nСредняя оценка за домашние задания: 0\"\n",
    "               f\"\\nКурсы в процессе изучения: {', '.join(self.courses_in_progress)}\"\n",
    "               f\"\\nЗавершенные курсы: {', '.join(self.finished_courses)}\"\n",
    "            ) \n",
    "    \n",
    "    def __le__(self, student):\n",
    "        if isinstance(student, Student) and self.grades and student.grades:\n",
    "            return self.avg_grade() <= student.avg_grade()\n",
    "        return 'Error'"
   ]
  },
  {
   "cell_type": "code",
   "execution_count": 187,
   "metadata": {},
   "outputs": [],
   "source": [
    "class Mentor:\n",
    "    def __init__(self, name, surname):\n",
    "        self.name = name\n",
    "        self.surname = surname\n",
    "        self.courses_attached = []\n",
    "        \n",
    "    def rate_hw(self, student, course, grade):\n",
    "        if isinstance(student, Student) and course in self.courses_attached and course in student.courses_in_progress:\n",
    "            if course in student.grades:\n",
    "                student.grades[course] += [grade]\n",
    "            else:\n",
    "                student.grades[course] = [grade]\n",
    "        else:\n",
    "            return 'Ошибка'\n",
    "        \n",
    "        \n",
    "class Lecturer(Mentor):\n",
    "    def __init__(self, name, surname):\n",
    "        super().__init__(name, surname)\n",
    "        self.grades = {}\n",
    "\n",
    "    def avg_grade(self):\n",
    "        '''calculates the average grade for lectures'''\n",
    "        grades_list = sum(self.grades.values(), start=[])\n",
    "        return round(sum(grades_list) / len(grades_list), 2)\n",
    "\n",
    "    def __str__(self):\n",
    "        if self.grades:\n",
    "            return f\"Имя: {self.name} \\nФамилия: {self.surname} \\nСредняя оценка за лекции: {self.avg_grade()}\"\n",
    "        return f\"Имя: {self.name} \\nФамилия: {self.surname} \\nСредняя оценка за лекции: 0\"\n",
    "    \n",
    "    def __le__(self, lecture):\n",
    "        if isinstance(lecture, Lecturer) and self.grades and lecture.grades:\n",
    "            return self.avg_grade() <= lecture.avg_grade()\n",
    "        return 'Error'\n",
    "\n",
    "\n",
    "class Reviewer(Mentor):\n",
    "    \n",
    "    def __str__(self):\n",
    "        return f\"Имя: {self.name} \\nФамилия: {self.surname}\""
   ]
  },
  {
   "cell_type": "code",
   "execution_count": 188,
   "metadata": {},
   "outputs": [],
   "source": [
    "student1 = Student('Kirill', 'Somin', 'M')\n",
    "student2 = Student('Kristina', 'Yabloneva', 'F')\n",
    "student1.courses_in_progress.extend(['Python', 'Java'])\n",
    "student2.courses_in_progress.extend(['Python', 'Java'])\n",
    "student1.finished_courses.append('Программирование')\n"
   ]
  },
  {
   "cell_type": "code",
   "execution_count": 189,
   "metadata": {},
   "outputs": [],
   "source": [
    "lecture1 = Lecturer('Some', 'Lecture')\n",
    "lecture2 = Lecturer('Other', 'Lecture')\n",
    "lecture1.courses_attached.extend(['Python', 'Java'])\n",
    "lecture2.courses_attached.extend(['Python', 'Java'])"
   ]
  },
  {
   "cell_type": "code",
   "execution_count": 190,
   "metadata": {},
   "outputs": [
    {
     "name": "stdout",
     "output_type": "stream",
     "text": [
      "{'Python': [8, 9], 'Java': [10, 6]}\n",
      "{'Python': [10, 9], 'Java': [7, 8]}\n"
     ]
    }
   ],
   "source": [
    "student1.rate_lecture(lecture1, 'Python', 8)\n",
    "student2.rate_lecture(lecture1, 'Python', 9)\n",
    "student1.rate_lecture(lecture1, 'Java', 10)\n",
    "student2.rate_lecture(lecture1, 'Java', 6)\n",
    "\n",
    "student1.rate_lecture(lecture2, 'Python', 10)\n",
    "student2.rate_lecture(lecture2, 'Python', 9)\n",
    "student1.rate_lecture(lecture2, 'Java', 7)\n",
    "student2.rate_lecture(lecture2, 'Java', 8)\n",
    "\n",
    "print(lecture1.grades)\n",
    "print(lecture2.grades)"
   ]
  },
  {
   "cell_type": "code",
   "execution_count": 191,
   "metadata": {},
   "outputs": [
    {
     "name": "stdout",
     "output_type": "stream",
     "text": [
      "Имя: Some \n",
      "Фамилия: Lecture \n",
      "Средняя оценка за лекции: 8.25\n",
      "Имя: Other \n",
      "Фамилия: Lecture \n",
      "Средняя оценка за лекции: 8.5\n",
      "True\n"
     ]
    }
   ],
   "source": [
    "print(lecture1, lecture2, sep='\\n')\n",
    "print(lecture1 <= lecture2)"
   ]
  },
  {
   "cell_type": "code",
   "execution_count": 192,
   "metadata": {},
   "outputs": [
    {
     "name": "stdout",
     "output_type": "stream",
     "text": [
      "Имя: Some \n",
      "Фамилия: Reviewer\n",
      "\n",
      "Имя: Other \n",
      "Фамилия: Reviewer\n"
     ]
    }
   ],
   "source": [
    "reviewer1 = Reviewer('Some', 'Reviewer')\n",
    "reviewer2 = Reviewer('Other', 'Reviewer')\n",
    "reviewer1.courses_attached.extend(['Python', 'Java'])\n",
    "reviewer2.courses_attached.extend(['Python', 'Java'])\n",
    "print(reviewer1)\n",
    "print()\n",
    "print(reviewer2)"
   ]
  },
  {
   "cell_type": "code",
   "execution_count": 193,
   "metadata": {},
   "outputs": [
    {
     "name": "stdout",
     "output_type": "stream",
     "text": [
      "{'Python': [3], 'Java': [4]}\n",
      "{'Python': [4], 'Java': [5]}\n",
      "True\n"
     ]
    }
   ],
   "source": [
    "\n",
    "reviewer1.rate_hw(student1, 'Python', 3)\n",
    "reviewer1.rate_hw(student1, 'Java', 4)\n",
    "reviewer1.rate_hw(student2, 'Python', 4)\n",
    "reviewer1.rate_hw(student2, 'Java', 5)\n",
    "print(student1.grades)\n",
    "print(student2.grades)\n",
    "print(student1 <= student2)"
   ]
  },
  {
   "cell_type": "code",
   "execution_count": 194,
   "metadata": {},
   "outputs": [
    {
     "name": "stdout",
     "output_type": "stream",
     "text": [
      "Имя: Kirill \n",
      "Фамилия: Somin \n",
      "Средняя оценка за домашние задания: 3.5 \n",
      "Курсы в процессе изучения: Python, Java\n",
      "Завершенные курсы: Программирование\n",
      "Имя: Kristina \n",
      "Фамилия: Yabloneva \n",
      "Средняя оценка за домашние задания: 4.5 \n",
      "Курсы в процессе изучения: Python, Java\n",
      "Завершенные курсы: \n"
     ]
    }
   ],
   "source": [
    "print(student1, student2, sep='\\n')"
   ]
  },
  {
   "cell_type": "code",
   "execution_count": 195,
   "metadata": {},
   "outputs": [
    {
     "name": "stdout",
     "output_type": "stream",
     "text": [
      "3.5\n",
      "4.5\n"
     ]
    }
   ],
   "source": [
    "def total_avg_grade(students, course):\n",
    "    '''calculates the average grade for all students by course'''\n",
    "    \n",
    "    all_grades = []\n",
    "    for student in students:\n",
    "        for key, value in student.grades.items():\n",
    "            if key == course:\n",
    "                all_grades.extend(value)\n",
    "    return sum(all_grades) / len(all_grades)\n",
    "\n",
    "students = [student1, student2]\n",
    "\n",
    "print(total_avg_grade(students, 'Python'))\n",
    "print(total_avg_grade(students, 'Java'))"
   ]
  },
  {
   "cell_type": "code",
   "execution_count": 196,
   "metadata": {},
   "outputs": [
    {
     "name": "stdout",
     "output_type": "stream",
     "text": [
      "7.75\n",
      "9.0\n"
     ]
    }
   ],
   "source": [
    "def total_avg_lecture(lectures, course):\n",
    "    '''calculates the average grade for all lectures by course'''\n",
    "\n",
    "    all_grades = []\n",
    "    for lecture in lectures:\n",
    "        for key, value in lecture.grades.items():\n",
    "            if key == course:\n",
    "                all_grades.extend(value)\n",
    "    return sum(all_grades) / len(all_grades)\n",
    "\n",
    "lectures = [lecture1, lecture2]\n",
    "\n",
    "print(total_avg_lecture(lectures, 'Java'))\n",
    "print(total_avg_lecture(lectures, 'Python'))"
   ]
  }
 ],
 "metadata": {
  "kernelspec": {
   "display_name": "Python 3",
   "language": "python",
   "name": "python3"
  },
  "language_info": {
   "codemirror_mode": {
    "name": "ipython",
    "version": 3
   },
   "file_extension": ".py",
   "mimetype": "text/x-python",
   "name": "python",
   "nbconvert_exporter": "python",
   "pygments_lexer": "ipython3",
   "version": "3.11.3"
  },
  "orig_nbformat": 4
 },
 "nbformat": 4,
 "nbformat_minor": 2
}
